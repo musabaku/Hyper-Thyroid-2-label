{
 "cells": [
  {
   "cell_type": "markdown",
   "id": "0a2bb0a0-dcd7-435f-aa85-b16a190fd4dd",
   "metadata": {},
   "source": [
    "## KNN \n",
    "\n"
   ]
  },
  {
   "cell_type": "code",
   "execution_count": 1,
   "id": "d5e77771-f574-4802-82a1-e606f340cee1",
   "metadata": {},
   "outputs": [],
   "source": [
    "import pandas as pd\n",
    "import numpy as np\n",
    "from sklearn.model_selection import LeaveOneOut\n",
    "from sklearn.neighbors import KNeighborsClassifier\n",
    "from sklearn.model_selection import train_test_split\n",
    "from sklearn.model_selection import cross_val_predict, LeaveOneOut\n",
    "from sklearn.preprocessing import label_binarize\n",
    "from sklearn.preprocessing import MinMaxScaler\n",
    "\n",
    "import warnings\n",
    "# Code was showing some warnings, from stack overflow optimal answer was to include this\n",
    "warnings.simplefilter(action='ignore', category=FutureWarning)"
   ]
  },
  {
   "cell_type": "code",
   "execution_count": 2,
   "id": "40d1d82d-30de-41f1-aeaf-674d46874333",
   "metadata": {},
   "outputs": [],
   "source": [
    "\n",
    "# import pandas as pd\n",
    "\n",
    "# encodings = ['latin1', 'ISO-8859-1', 'cp1252']\n",
    "# for encoding in encodings:\n",
    "#     try:\n",
    "#         df = pd.read_csv('hyperthyroidism3_FinalData_April.csv', encoding=encoding)\n",
    "#         break\n",
    "#     except UnicodeDecodeError:\n",
    "#         print(f\"Failed to read with encoding {encoding}\")\n",
    "# else:\n",
    "#     raise UnicodeDecodeError(\"None of the specified encodings could decode the file\")\n",
    "\n",
    "# # X = df.values\n",
    "# df.head()\n"
   ]
  },
  {
   "cell_type": "code",
   "execution_count": 3,
   "id": "6d02dc79-40b8-4eaf-bc68-82ed1075d18a",
   "metadata": {},
   "outputs": [],
   "source": [
    "df = pd.read_csv(\"hyperthyroidism3_FinalDataSet_April.csv\", encoding='latin-1')\n",
    "df.dropna(inplace=True)\n"
   ]
  },
  {
   "cell_type": "code",
   "execution_count": 4,
   "id": "5bd0b90b-2388-4198-8c38-1cfc712549ed",
   "metadata": {},
   "outputs": [
    {
     "data": {
      "text/html": [
       "<div>\n",
       "<style scoped>\n",
       "    .dataframe tbody tr th:only-of-type {\n",
       "        vertical-align: middle;\n",
       "    }\n",
       "\n",
       "    .dataframe tbody tr th {\n",
       "        vertical-align: top;\n",
       "    }\n",
       "\n",
       "    .dataframe thead th {\n",
       "        text-align: right;\n",
       "    }\n",
       "</style>\n",
       "<table border=\"1\" class=\"dataframe\">\n",
       "  <thead>\n",
       "    <tr style=\"text-align: right;\">\n",
       "      <th></th>\n",
       "      <th>aphp</th>\n",
       "      <th>nhph</th>\n",
       "      <th>tertiary_hp</th>\n",
       "      <th>secondary_hp</th>\n",
       "      <th>age</th>\n",
       "      <th>gender</th>\n",
       "      <th>height</th>\n",
       "      <th>weight</th>\n",
       "      <th>bmi</th>\n",
       "      <th>marital_status</th>\n",
       "      <th>...</th>\n",
       "      <th>nephrolithiasis</th>\n",
       "      <th>bone_specific_alp</th>\n",
       "      <th>corrected_calcium_by_albumin</th>\n",
       "      <th>serum_calcium_phosphorus_ratio</th>\n",
       "      <th>pf_index</th>\n",
       "      <th>alp_combined_with_cl_po4</th>\n",
       "      <th>third_surgery_pathology_report</th>\n",
       "      <th>fourth_surgery_pathology_report</th>\n",
       "      <th>triglycerides</th>\n",
       "      <th>hdl_cholesterol</th>\n",
       "    </tr>\n",
       "  </thead>\n",
       "  <tbody>\n",
       "    <tr>\n",
       "      <th>0</th>\n",
       "      <td>0</td>\n",
       "      <td>0</td>\n",
       "      <td>0</td>\n",
       "      <td>0</td>\n",
       "      <td>0</td>\n",
       "      <td>-1</td>\n",
       "      <td>0</td>\n",
       "      <td>0</td>\n",
       "      <td>0.0</td>\n",
       "      <td>0</td>\n",
       "      <td>...</td>\n",
       "      <td>-1</td>\n",
       "      <td>0.0</td>\n",
       "      <td>0.0</td>\n",
       "      <td>0.0</td>\n",
       "      <td>0.0</td>\n",
       "      <td>0.0</td>\n",
       "      <td>0</td>\n",
       "      <td>0</td>\n",
       "      <td>0</td>\n",
       "      <td>0</td>\n",
       "    </tr>\n",
       "    <tr>\n",
       "      <th>1</th>\n",
       "      <td>0</td>\n",
       "      <td>0</td>\n",
       "      <td>0</td>\n",
       "      <td>0</td>\n",
       "      <td>60</td>\n",
       "      <td>1</td>\n",
       "      <td>0</td>\n",
       "      <td>0</td>\n",
       "      <td>0.0</td>\n",
       "      <td>1</td>\n",
       "      <td>...</td>\n",
       "      <td>0</td>\n",
       "      <td>0.0</td>\n",
       "      <td>11.2</td>\n",
       "      <td>2.8</td>\n",
       "      <td>147.0</td>\n",
       "      <td>0.0</td>\n",
       "      <td>0</td>\n",
       "      <td>0</td>\n",
       "      <td>0</td>\n",
       "      <td>0</td>\n",
       "    </tr>\n",
       "    <tr>\n",
       "      <th>2</th>\n",
       "      <td>0</td>\n",
       "      <td>0</td>\n",
       "      <td>0</td>\n",
       "      <td>0</td>\n",
       "      <td>0</td>\n",
       "      <td>-1</td>\n",
       "      <td>0</td>\n",
       "      <td>0</td>\n",
       "      <td>0.0</td>\n",
       "      <td>0</td>\n",
       "      <td>...</td>\n",
       "      <td>-1</td>\n",
       "      <td>0.0</td>\n",
       "      <td>0.0</td>\n",
       "      <td>0.0</td>\n",
       "      <td>0.0</td>\n",
       "      <td>0.0</td>\n",
       "      <td>0</td>\n",
       "      <td>0</td>\n",
       "      <td>0</td>\n",
       "      <td>0</td>\n",
       "    </tr>\n",
       "    <tr>\n",
       "      <th>3</th>\n",
       "      <td>0</td>\n",
       "      <td>0</td>\n",
       "      <td>0</td>\n",
       "      <td>0</td>\n",
       "      <td>0</td>\n",
       "      <td>-1</td>\n",
       "      <td>0</td>\n",
       "      <td>0</td>\n",
       "      <td>0.0</td>\n",
       "      <td>0</td>\n",
       "      <td>...</td>\n",
       "      <td>-1</td>\n",
       "      <td>0.0</td>\n",
       "      <td>0.0</td>\n",
       "      <td>0.0</td>\n",
       "      <td>0.0</td>\n",
       "      <td>0.0</td>\n",
       "      <td>0</td>\n",
       "      <td>0</td>\n",
       "      <td>0</td>\n",
       "      <td>0</td>\n",
       "    </tr>\n",
       "    <tr>\n",
       "      <th>4</th>\n",
       "      <td>1</td>\n",
       "      <td>0</td>\n",
       "      <td>0</td>\n",
       "      <td>0</td>\n",
       "      <td>55</td>\n",
       "      <td>1</td>\n",
       "      <td>170</td>\n",
       "      <td>73</td>\n",
       "      <td>0.0</td>\n",
       "      <td>1</td>\n",
       "      <td>...</td>\n",
       "      <td>0</td>\n",
       "      <td>0.0</td>\n",
       "      <td>12.1</td>\n",
       "      <td>4.4</td>\n",
       "      <td>413.0</td>\n",
       "      <td>0.0</td>\n",
       "      <td>0</td>\n",
       "      <td>0</td>\n",
       "      <td>0</td>\n",
       "      <td>0</td>\n",
       "    </tr>\n",
       "  </tbody>\n",
       "</table>\n",
       "<p>5 rows × 71 columns</p>\n",
       "</div>"
      ],
      "text/plain": [
       "   aphp  nhph  tertiary_hp  secondary_hp  age  gender  height  weight  bmi  \\\n",
       "0     0     0            0             0    0      -1       0       0  0.0   \n",
       "1     0     0            0             0   60       1       0       0  0.0   \n",
       "2     0     0            0             0    0      -1       0       0  0.0   \n",
       "3     0     0            0             0    0      -1       0       0  0.0   \n",
       "4     1     0            0             0   55       1     170      73  0.0   \n",
       "\n",
       "   marital_status  ...  nephrolithiasis  bone_specific_alp  \\\n",
       "0               0  ...               -1                0.0   \n",
       "1               1  ...                0                0.0   \n",
       "2               0  ...               -1                0.0   \n",
       "3               0  ...               -1                0.0   \n",
       "4               1  ...                0                0.0   \n",
       "\n",
       "   corrected_calcium_by_albumin  serum_calcium_phosphorus_ratio  pf_index  \\\n",
       "0                           0.0                             0.0       0.0   \n",
       "1                          11.2                             2.8     147.0   \n",
       "2                           0.0                             0.0       0.0   \n",
       "3                           0.0                             0.0       0.0   \n",
       "4                          12.1                             4.4     413.0   \n",
       "\n",
       "   alp_combined_with_cl_po4  third_surgery_pathology_report  \\\n",
       "0                       0.0                               0   \n",
       "1                       0.0                               0   \n",
       "2                       0.0                               0   \n",
       "3                       0.0                               0   \n",
       "4                       0.0                               0   \n",
       "\n",
       "   fourth_surgery_pathology_report  triglycerides  hdl_cholesterol  \n",
       "0                                0              0                0  \n",
       "1                                0              0                0  \n",
       "2                                0              0                0  \n",
       "3                                0              0                0  \n",
       "4                                0              0                0  \n",
       "\n",
       "[5 rows x 71 columns]"
      ]
     },
     "execution_count": 4,
     "metadata": {},
     "output_type": "execute_result"
    }
   ],
   "source": [
    "df.head()"
   ]
  },
  {
   "cell_type": "code",
   "execution_count": 5,
   "id": "3112da92-e0d1-452f-876a-74609ceddafe",
   "metadata": {},
   "outputs": [],
   "source": [
    "y = df.iloc[:, :2].values\n",
    "X = df.iloc[:, 2:].values\n",
    "\n",
    "# nan_values = df.isna()\n",
    "# print(df.isna().sum())\n",
    "\n",
    "# print(df[nan_values])"
   ]
  },
  {
   "cell_type": "markdown",
   "id": "4dc31cf4-ee6c-42e7-a3a0-2f5e89810ef8",
   "metadata": {},
   "source": [
    "## Splitting & Using KNN"
   ]
  },
  {
   "cell_type": "code",
   "execution_count": 6,
   "id": "417d8ad7-a33a-47a4-b4c4-0f433caba940",
   "metadata": {},
   "outputs": [
    {
     "name": "stdout",
     "output_type": "stream",
     "text": [
      "Training time: 0.04609823226928711 seconds\n"
     ]
    }
   ],
   "source": [
    "from sklearn.neighbors import KNeighborsClassifier\n",
    "from sklearn.model_selection import train_test_split\n",
    "import time\n",
    "import pandas as pd\n",
    "import pandas as pd\n",
    "\n",
    "def create_multiclass_target(y):\n",
    "    return np.where((y[:, 0] == 0) & (y[:, 1] == 0), 0,\n",
    "                    np.where((y[:, 0] == 1) & (y[:, 1] == 1), 1,\n",
    "                             np.where((y[:, 0] == 0) & (y[:, 1] == 1), 2, 3)))\n",
    "\n",
    "y_multiclass = create_multiclass_target(y)\n",
    "X_train, X_test, y_train, y_test = train_test_split(X, y_multiclass, test_size=0.2, random_state=42)\n",
    "\n",
    "knn = KNeighborsClassifier(n_neighbors=5)\n",
    "\n",
    "start_time = time.time()\n",
    "\n",
    "knn.fit(X_train, y_train)\n",
    "y_pred = knn.predict(X_test)\n",
    "\n",
    "end_time = time.time()\n",
    "\n",
    "training_time = end_time - start_time\n",
    "\n",
    "print(f\"Training time: {training_time} seconds\")\n"
   ]
  },
  {
   "cell_type": "markdown",
   "id": "012b148b-7ca2-4bb0-b22f-1f53355e7ce2",
   "metadata": {},
   "source": [
    "## Using Evaluation Metrics"
   ]
  },
  {
   "cell_type": "code",
   "execution_count": 7,
   "id": "81428c1d-74c7-4f66-a399-6d7e73d2e250",
   "metadata": {},
   "outputs": [
    {
     "name": "stdout",
     "output_type": "stream",
     "text": [
      "Accuracy =  52.666666666666664 %\n",
      "Precision =  0.4737466646141215\n",
      "Recall =  0.48607142857142854\n",
      "F1-score =  0.44438060719703026\n"
     ]
    },
    {
     "data": {
      "image/png": "[encoded data removed]",
      "text/plain": [
       "<Figure size 640x480 with 2 Axes>"
      ]
     },
     "metadata": {},
     "output_type": "display_data"
    },
    {
     "name": "stdout",
     "output_type": "stream",
     "text": [
      "Classification Report\n",
      "              precision    recall  f1-score   support\n",
      "\n",
      "           0       0.59      0.68      0.63        50\n",
      "           1       0.55      0.71      0.62        49\n",
      "           2       0.33      0.47      0.39        15\n",
      "           3       0.43      0.08      0.14        36\n",
      "\n",
      "    accuracy                           0.53       150\n",
      "   macro avg       0.47      0.49      0.44       150\n",
      "weighted avg       0.51      0.53      0.48       150\n",
      "\n"
     ]
    }
   ],
   "source": [
    "from sklearn.metrics import accuracy_score, precision_score, recall_score, f1_score, ConfusionMatrixDisplay,confusion_matrix, roc_curve, auc\n",
    "import matplotlib.pyplot as plt\n",
    "from sklearn.model_selection import learning_curve\n",
    "from sklearn.feature_selection import SelectKBest\n",
    "from sklearn.feature_selection import chi2\n",
    "\n",
    "# Calculating using average macro\n",
    "print(\"Accuracy = \", accuracy_score(y_test, y_pred) * 100, \"%\")\n",
    "print(\"Precision = \", precision_score(y_test, y_pred,average='macro'))\n",
    "print(\"Recall = \", recall_score(y_test, y_pred,average='macro'))\n",
    "print(\"F1-score = \", f1_score(y_test, y_pred,average='macro'))\n",
    "conf_matrix = confusion_matrix(y_test, y_pred)\n",
    "disp = ConfusionMatrixDisplay(confusion_matrix=conf_matrix, display_labels=np.unique(y_multiclass))\n",
    "disp.plot()\n",
    "plt.title('Confusion Matrix for KNN')\n",
    "plt.show()\n",
    "\n",
    "# Using classification report too\n",
    "print(\"Classification Report\")\n",
    "from sklearn.metrics import classification_report\n",
    "print(classification_report(y_test, y_pred))"
   ]
  },
  {
   "cell_type": "code",
   "execution_count": 8,
   "id": "ea2cfdf4-5875-45ee-b9f3-4dc785756693",
   "metadata": {},
   "outputs": [
    {
     "data": {
      "image/png": "[encoded data removed]",
      "text/plain": [
       "<Figure size 640x480 with 1 Axes>"
      ]
     },
     "metadata": {},
     "output_type": "display_data"
    }
   ],
   "source": [
    "train_sizes, train_scores, test_scores = learning_curve(knn, X, y, cv=5, train_sizes=np.linspace(0.1, 1.0, 10))\n",
    "\n",
    "plt.figure()\n",
    "plt.plot(train_sizes, np.mean(train_scores, axis=1), 'o-', label=\"Training score\")\n",
    "plt.plot(train_sizes, np.mean(test_scores, axis=1), 'o-', label=\"Cross-validation score\")\n",
    "plt.xlabel(\"Training examples\")\n",
    "plt.ylabel(\"Score\")\n",
    "plt.title(\"Learning Curve\")\n",
    "plt.legend(loc=\"best\")\n",
    "plt.show()"
   ]
  }
 ],
 "metadata": {
  "kernelspec": {
   "display_name": "Python 3 (ipykernel)",
   "language": "python",
   "name": "python3"
  },
  "language_info": {
   "codemirror_mode": {
    "name": "ipython",
    "version": 3
   },
   "file_extension": ".py",
   "mimetype": "text/x-python",
   "name": "python",
   "nbconvert_exporter": "python",
   "pygments_lexer": "ipython3",
   "version": "3.11.0"
  }
 },
 "nbformat": 4,
 "nbformat_minor": 5
}
